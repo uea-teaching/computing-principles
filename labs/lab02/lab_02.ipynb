{
 "cells": [
  {
   "cell_type": "markdown",
   "metadata": {},
   "source": [
    "# Labsheet - Experimental Analysis\n",
    "\n",
    "In this lab you will implement and perform experiments on some algorithms we have discussed in the lectures.\n",
    "\n",
    "I will provide minimal code, and the rest is up to you.\n",
    "\n",
    "Don't forget, it is encouraged to share ideas in the lab - but try to come up with your own solutions."
   ]
  },
  {
   "cell_type": "code",
   "execution_count": null,
   "metadata": {},
   "outputs": [],
   "source": [
    "# import modules\n",
    "import random\n",
    "from time import perf_counter_ns as timer\n",
    "import matplotlib.pyplot as plt"
   ]
  },
  {
   "cell_type": "markdown",
   "metadata": {},
   "source": [
    "You will perform many timed experiments to get an idea of the time complexity of various algorithms.\n",
    "\n",
    "The `time` function is in the `time` module we imported. To save a timestamp, call it like this:\n",
    "\n",
    "Of course, you can capture the timestamp using any variable name you like."
   ]
  },
  {
   "cell_type": "code",
   "execution_count": null,
   "metadata": {},
   "outputs": [],
   "source": [
    "first_time = timer()"
   ]
  },
  {
   "cell_type": "markdown",
   "metadata": {},
   "source": [
    "Similarly, you can generate a random integer using the randrange function from the random module."
   ]
  },
  {
   "cell_type": "code",
   "execution_count": null,
   "metadata": {},
   "outputs": [],
   "source": [
    "my_random_int = random.randrange(5)"
   ]
  },
  {
   "cell_type": "markdown",
   "metadata": {},
   "source": [
    "The randrange function only returns a single integer. \n",
    "Let's use a function to fill a list with random integers:"
   ]
  },
  {
   "cell_type": "code",
   "execution_count": null,
   "metadata": {},
   "outputs": [],
   "source": [
    "def random_list(n, k=256):\n",
    "    \"\"\"Generate a list of length n, of random integers.\"\"\"\n",
    "    return [random.randrange(k) for _ in range(n)]"
   ]
  },
  {
   "cell_type": "code",
   "execution_count": null,
   "metadata": {},
   "outputs": [],
   "source": [
    "random_values = random_list(5)\n",
    "print(random_values)"
   ]
  },
  {
   "cell_type": "markdown",
   "metadata": {},
   "source": [
    "Now, lets look at a useful function, that we have so far assumed exists, the swap function."
   ]
  },
  {
   "cell_type": "code",
   "execution_count": null,
   "metadata": {},
   "outputs": [],
   "source": [
    "def swap(array, a, b):\n",
    "    \"\"\"swap two values at index a and b\"\"\"\n",
    "    array[a], array[b] = array[b], array[a]"
   ]
  },
  {
   "cell_type": "markdown",
   "metadata": {},
   "source": [
    "This function takes advantage of a couple of python language features. \n",
    "\n",
    "1. Lists are mutable, so we can change the values inside. \n",
    "2. Tuple unpacking let's us do the swap in one atomic operation.\n",
    "\n",
    "Let's try it:"
   ]
  },
  {
   "cell_type": "code",
   "execution_count": null,
   "metadata": {},
   "outputs": [],
   "source": [
    "values = [1, 2, 3, 4, 5]\n",
    "\n",
    "swap(values, 0, 3)\n",
    "\n",
    "print(values)"
   ]
  },
  {
   "cell_type": "markdown",
   "metadata": {},
   "source": [
    "We passed the list, which we named values, by reference. It was modified in place, we did NOT return a new list."
   ]
  },
  {
   "cell_type": "markdown",
   "metadata": {},
   "source": [
    "We could make a function to search using the built in python methods, then run some experiments to get an idea of the time complexity."
   ]
  },
  {
   "cell_type": "code",
   "execution_count": null,
   "metadata": {},
   "outputs": [],
   "source": [
    "def python_search(key, values):\n",
    "    \"\"\"return true if key is in values, else false.\"\"\"\n",
    "    return key in values"
   ]
  },
  {
   "cell_type": "code",
   "execution_count": null,
   "metadata": {},
   "outputs": [],
   "source": [
    "values = [1, 2, 3, 4, 5]\n",
    "key = 9\n",
    "\n",
    "result = python_search(key, values)\n",
    "\n",
    "print(result)"
   ]
  },
  {
   "cell_type": "markdown",
   "metadata": {},
   "source": [
    "# First Experiment\n",
    "\n",
    "\n",
    "Perform an experiment by creating data, and making a plot just as in the seminar notebook, but testing `python_search`"
   ]
  },
  {
   "cell_type": "code",
   "execution_count": null,
   "metadata": {},
   "outputs": [],
   "source": [
    "# Create data - you should adjust these values to suit your tests.\n",
    "\n",
    "num_exp = 10_000\n",
    "min_n = 10\n",
    "max_n = 1000\n",
    "\n",
    "data = [] # fill the test data "
   ]
  },
  {
   "cell_type": "code",
   "execution_count": null,
   "metadata": {},
   "outputs": [],
   "source": [
    "# run experiments\n",
    "results = []\n",
    "\n",
    "for values in data:\n",
    "    key = ... # you will need a test key\n",
    "    \n",
    "    t0 = timer() # start time\n",
    "    python_search(key, values)\n",
    "    t1 = timer() # end time\n",
    "    \n",
    "    # save as nano seconds\n",
    "    results.append((t1-t0))\n",
    "\n",
    "print(\"done\")"
   ]
  },
  {
   "cell_type": "code",
   "execution_count": null,
   "metadata": {},
   "outputs": [],
   "source": [
    "# plot the results, dont forget to add labels, legends and titles!\n",
    "\n",
    "y = results\n",
    "x = [len(d) for d in data]\n",
    "\n",
    "fig, ax = plt.subplots(figsize=[7, 5], dpi=100)\n",
    "# plot results here!"
   ]
  },
  {
   "cell_type": "code",
   "execution_count": null,
   "metadata": {},
   "outputs": [],
   "source": [
    "# make some comment on the time complexity"
   ]
  },
  {
   "cell_type": "markdown",
   "metadata": {},
   "source": [
    "# Experiment 2\n",
    "\n",
    "Implement **bubble sort** - refer to the pseudocode from the lecture slides.\n",
    "\n",
    "Perform an experiment to understand the time complexity of **bubble sort**.\n",
    "\n",
    "Tips: \n",
    " * Python list indexing starts from 0.\n",
    " * You can get the length of a list with the `len` function: `n = len(values)`.\n",
    " * The index of the last item is n - 1.\n",
    " * In python, negative indices are valid, eg. `values[-1]` returns the last item in the list."
   ]
  },
  {
   "cell_type": "code",
   "execution_count": null,
   "metadata": {},
   "outputs": [],
   "source": [
    "# add code and cells as necessary"
   ]
  },
  {
   "cell_type": "markdown",
   "metadata": {},
   "source": [
    "# Experiment 3\n",
    "\n",
    "Make a **modified** version of bubble sort that stops when no swaps are made.\n",
    "\n",
    "Perform an experiment to understand the time complexity of **modified** bubble sort."
   ]
  },
  {
   "cell_type": "code",
   "execution_count": null,
   "metadata": {},
   "outputs": [],
   "source": [
    "# add code and cells as necessary"
   ]
  },
  {
   "cell_type": "markdown",
   "metadata": {},
   "source": [
    "# Experiment 4\n",
    "\n",
    "Implement **insertion sort** - refer to the pseudocode from the lecture slides.\n",
    "\n",
    "Perform an experiment to understand the time complexity of **insertion sort**."
   ]
  },
  {
   "cell_type": "code",
   "execution_count": null,
   "metadata": {},
   "outputs": [],
   "source": [
    "# add code and cells as necessary"
   ]
  }
 ],
 "metadata": {
  "interpreter": {
   "hash": "5409743384c9005e61fb77b3076c025a5b0695965dd2d2605a472bbd90038138"
  },
  "kernelspec": {
   "display_name": "Python 3.8.12 ('base')",
   "language": "python",
   "name": "python3"
  },
  "language_info": {
   "codemirror_mode": {
    "name": "ipython",
    "version": 3
   },
   "file_extension": ".py",
   "mimetype": "text/x-python",
   "name": "python",
   "nbconvert_exporter": "python",
   "pygments_lexer": "ipython3",
   "version": "3.8.12"
  }
 },
 "nbformat": 4,
 "nbformat_minor": 4
}
